{
 "cells": [
  {
   "cell_type": "code",
   "execution_count": 5,
   "id": "b4bd45c9",
   "metadata": {},
   "outputs": [],
   "source": [
    "from PIL import Image, ImageFilter\n",
    "\n",
    "img = Image.open(r\"C:\\Users\\ASUS\\Desktop\\image_default.JPG\")\n",
    "enc_img = img.filter(ImageFilter.DETAIL)\n",
    "enc_img.show()\n"
   ]
  },
  {
   "cell_type": "code",
   "execution_count": null,
   "id": "7bcb161b",
   "metadata": {},
   "outputs": [],
   "source": [
    "from PIL import Image, ImageEnhance\n",
    "\n",
    "img = Image.open(r\"C:\\Users\\ASUS\\Desktop\\image_default.JPG\")\n",
    "con_img = ImageEnhance.Contrast(img)\n",
    "con_img.show()"
   ]
  }
 ],
 "metadata": {
  "kernelspec": {
   "display_name": "Python 3 (ipykernel)",
   "language": "python",
   "name": "python3"
  },
  "language_info": {
   "codemirror_mode": {
    "name": "ipython",
    "version": 3
   },
   "file_extension": ".py",
   "mimetype": "text/x-python",
   "name": "python",
   "nbconvert_exporter": "python",
   "pygments_lexer": "ipython3",
   "version": "3.9.13"
  }
 },
 "nbformat": 4,
 "nbformat_minor": 5
}
